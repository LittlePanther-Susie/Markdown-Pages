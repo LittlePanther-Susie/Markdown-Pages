{
  "nbformat": 4,
  "nbformat_minor": 0,
  "metadata": {
    "colab": {
      "provenance": [],
      "toc_visible": true,
      "authorship_tag": "ABX9TyObKxnilVE9nDpWtXsnho8v",
      "include_colab_link": true
    },
    "kernelspec": {
      "name": "python3",
      "display_name": "Python 3"
    },
    "language_info": {
      "name": "python"
    }
  },
  "cells": [
    {
      "cell_type": "markdown",
      "metadata": {
        "id": "view-in-github",
        "colab_type": "text"
      },
      "source": [
        "<a href=\"https://colab.research.google.com/github/LittlePanther-Susie/Notebook-Publish/blob/main/3%20-%20Logistic%20Regression.ipynb\" target=\"_parent\"><img src=\"https://colab.research.google.com/assets/colab-badge.svg\" alt=\"Open In Colab\"/></a>"
      ]
    },
    {
      "cell_type": "markdown",
      "source": [
        "# Basics of Logistic Regression"
      ],
      "metadata": {
        "id": "HvxuG7Fr2TWi"
      }
    },
    {
      "cell_type": "markdown",
      "source": [
        "Logistic regression is one of the most popular classification methods. Its name contains 'regression', but it is popular as a classification method. Why? Let's visit the foundations of logistic regression with a simple example.\n",
        "\n",
        "A logistic regression is used to to estimate the probability of an event. Suppose you have a dataset of independent variables and corresponding event occurance. For example, a dataset about the hours of studying as the independent variable and pass/fail for exam as the outcome event."
      ],
      "metadata": {
        "id": "JvKpAsjS2Xh7"
      }
    },
    {
      "cell_type": "markdown",
      "source": [
        "| **Hours** |  0.5 | 0.75 |   1  | 1.25 |  1.5 | 1.75 | 1.75 |   2  | 2.25 |  2.5 | 2.75 |   3  | 3.25 |  3.5 |   4  | 4.25 |  4.5 | 4.75 |   5  |  5.5 |\n",
        "|:---------:|:----:|:----:|:----:|:----:|:----:|:----:|:----:|:----:|:----:|:----:|:----:|:----:|:----:|:----:|:----:|:----:|:----:|:----:|:----:|:----:|\n",
        "|  **P/F**  | Fail | Fail | Fail | Fail | Fail | Fail | Pass | Fail | Pass | Fail | Pass | Fail | Pass | Fail | Pass | Pass | Pass | Pass | Pass | Pass |"
      ],
      "metadata": {
        "id": "qDDVeE2F2gMK"
      }
    },
    {
      "cell_type": "code",
      "execution_count": 1,
      "metadata": {
        "colab": {
          "base_uri": "https://localhost:8080/",
          "height": 311
        },
        "id": "syklaLOc2Iwl",
        "outputId": "8ceb0976-3e12-4f35-a889-ce028a686eea"
      },
      "outputs": [
        {
          "output_type": "display_data",
          "data": {
            "text/plain": [
              "<Figure size 400x300 with 1 Axes>"
            ],
            "image/png": "[encoded data removed]"
          },
          "metadata": {}
        }
      ],
      "source": [
        "# Data\n",
        "import numpy as np\n",
        "Hours = np.array([.5, .75, 1, 1.25, 1.5, 1.75, 1.75, 2, 2.25, 2.5, 2.75, 3, 3.25, 3.5, 4, 4.25, 4.5, 4.75, 5, 5.5]).reshape(-1, 1)\n",
        "Pass = np.array([0, 0, 0, 0, 0, 0, 1, 0, 1, 0, 1, 0, 1, 0, 1, 1, 1, 1, 1, 1])\n",
        "\n",
        "# plot figure\n",
        "from matplotlib import pyplot as plt\n",
        "fig, ax = plt.subplots(figsize=(4,3))\n",
        "ax.plot(Hours, Pass, 'ok')\n",
        "ax.set_xlabel('Hours of Studying')\n",
        "ax.set_ylabel('Pass (1) /Fail (0) ')\n",
        "ax.set_yticks([0, 1])\n",
        "plt.show()"
      ]
    },
    {
      "cell_type": "markdown",
      "source": [
        "Let's say you spent X-hours to prepare the exam. What is the probability to pass the exam? The logistic regression can be used to quantify the probability of discrete events at given independent variables."
      ],
      "metadata": {
        "id": "gLIK_cTS2nI9"
      }
    },
    {
      "cell_type": "markdown",
      "source": [
        "## Logistic Distribution"
      ],
      "metadata": {
        "id": "-6kQ3X2a2oqH"
      }
    },
    {
      "cell_type": "markdown",
      "source": [
        "The logistic regression starts from the logistic distribution. The CDF is described as\n",
        "$$F(x,\\mu,s) = {1\\over 1+e^{-(x-\\mu)/s}}$$\n",
        "$\\mu$ is the mean (location parameter) and *s* is a scale parameter where *s > 0*.\n",
        "The CDF can be rewritten as the logistic function as\n",
        "$$p(x) = {1\\over 1+e^{-{(\\beta_0+\\beta_1 x)}}} $$\n",
        "where $\\beta_0=-\\mu/s$ (intercept) and $\\beta_1=1/s$ (rate parameter).\n",
        "Why did we re-write the CDF of logistic distribution to the logistic function? Notice there is a familiar inear model, $\\beta_0+\\beta_1 x$. As you can probably tell, it is a huge benefit in regression modeling and its interpretation."
      ],
      "metadata": {
        "id": "5daEoeU72rPO"
      }
    },
    {
      "cell_type": "markdown",
      "source": [
        "## Optimization"
      ],
      "metadata": {
        "id": "Y2G_DnDV2yJL"
      }
    },
    {
      "cell_type": "markdown",
      "source": [
        "Now, everything is ready. The dataset (Hours of study and pass/fail result) and the logistic function to connect the dataset and the probability. So, the only unknown is the parameters of the logistic function. We should estimate the parameter values ($\\beta{_0}$ and $\\beta{_1}$) representing the dataset with the probability model the most by solving an optimization problem.\n",
        "\n",
        "The cost function of the optimization problem can be defined with the sum of Log-loss function as below to measure the goodness of fit.\n",
        "\n",
        "$$Loss(y_k, p_k) = -(y_k \\ln (p_k) + (1 - y_k) \\ln (1 - p_k))$$\n",
        "\n",
        "The parameters can be obtained by minimizing the sum of the Log-loss values at the given dataset. This method is equivalent to the popular maximum likelihood estimation (MLE), which is to determine the parameters maximizing the joint likelihood.\n",
        "\n",
        "$$Likelihood(y_k, p_k) = \\prod_{k:y_k=1}p_k\\,\\prod_{k:y_k=0}(1-p_k)$$\n",
        "\n",
        "As the optimization algorithm, BFGS is used as the default method in Scikit-learn's logistic regression."
      ],
      "metadata": {
        "id": "Z32NNQ3k20kT"
      }
    },
    {
      "cell_type": "markdown",
      "source": [
        "## Logistic Regression with Scikit-learn"
      ],
      "metadata": {
        "id": "pvAJ8lvY26n1"
      }
    },
    {
      "cell_type": "code",
      "source": [
        "# Logistic regression\n",
        "from sklearn.linear_model import LogisticRegression\n",
        "from sklearn import metrics\n",
        "\n",
        "clf = LogisticRegression(random_state=0).fit(Hours, Pass)\n",
        "\n",
        "print(\"Regression parameters\")\n",
        "print(\"  Intercept (beta0): {:.4f}\".format(clf.intercept_[0]))\n",
        "print(\"  Slope (beta1): {:.4f}\".format(clf.coef_[0][0]))\n",
        "\n",
        "score = clf.score(Hours, Pass)\n",
        "print(f\"Accuracy on Train Data: {score*100:.2f} %\")"
      ],
      "metadata": {
        "colab": {
          "base_uri": "https://localhost:8080/"
        },
        "id": "NEUM9QN-2jSA",
        "outputId": "4de0e2dd-2f2d-40e4-f7b8-e7e92a9f4eeb"
      },
      "execution_count": 2,
      "outputs": [
        {
          "output_type": "stream",
          "name": "stdout",
          "text": [
            "Regression parameters\n",
            "  Intercept (beta0): -3.1395\n",
            "  Slope (beta1): 1.1486\n",
            "Accuracy on Train Data: 80.00 %\n"
          ]
        }
      ]
    },
    {
      "cell_type": "code",
      "source": [
        "# define logistic function\n",
        "def LogisticFunction(x, b0, b1):\n",
        "    p=1/(1+np.exp(-(b0+b1*x)))\n",
        "    return p"
      ],
      "metadata": {
        "id": "GAsHXD2D29sU"
      },
      "execution_count": 3,
      "outputs": []
    },
    {
      "cell_type": "code",
      "source": [
        "# Plot Data and Logistic Function\n",
        "b0 = clf.intercept_[0]\n",
        "b1 = clf.coef_[0][0]\n",
        "\n",
        "x = np.arange(Hours.mean()-3*Hours.std(), Hours.mean()+3*Hours.std(), 0.1)\n",
        "p = LogisticFunction(x, b0, b1)\n",
        "\n",
        "predictions = clf.predict(Hours)\n",
        "# find wrong predictions\n",
        "idx_diff = [i for i, item in enumerate(predictions) if item!=Pass[i]]\n",
        "\n",
        "# plot figure\n",
        "from matplotlib import pyplot as plt\n",
        "fig, ax = plt.subplots(figsize=(4,3))\n",
        "ax.plot(Hours, Pass, 'ok')\n",
        "ax.set_xlabel('Hours of studying')\n",
        "ax.set_ylabel('Probability of Passing Eaxm')\n",
        "ax.plot(x,p,'-b')\n",
        "ax.set_title('Data and Logistic function', fontsize='10')\n",
        "plt.grid()\n",
        "plt.show()"
      ],
      "metadata": {
        "colab": {
          "base_uri": "https://localhost:8080/",
          "height": 330
        },
        "id": "CuSbZ0cV2_Pk",
        "outputId": "bc89f1ab-5b42-4314-958e-c930143b5b85"
      },
      "execution_count": 4,
      "outputs": [
        {
          "output_type": "display_data",
          "data": {
            "text/plain": [
              "<Figure size 400x300 with 1 Axes>"
            ],
            "image/png": "[encoded data removed]"
          },
          "metadata": {}
        }
      ]
    },
    {
      "cell_type": "code",
      "source": [
        "proba = clf.predict_proba(Hours)\n",
        "LogL = -metrics.log_loss(Pass, proba)\n",
        "print(\"Log-Likelihood at the optimum: {:.4f}\".format(LogL))"
      ],
      "metadata": {
        "colab": {
          "base_uri": "https://localhost:8080/"
        },
        "id": "s3jfDRR_3ALW",
        "outputId": "e913cd33-8612-4a6e-8af8-428cfc18ef31"
      },
      "execution_count": 5,
      "outputs": [
        {
          "output_type": "stream",
          "name": "stdout",
          "text": [
            "Log-Likelihood at the optimum: -0.4109\n"
          ]
        }
      ]
    },
    {
      "cell_type": "markdown",
      "source": [
        "At each test point, the logistic function returns the probability of each event (Pass/Fail). If $p(x)>0.5$, it is classified as 'Pass'. If not, 'Fail'."
      ],
      "metadata": {
        "id": "-anrq40m3DEj"
      }
    },
    {
      "cell_type": "code",
      "source": [
        "import pandas as pd\n",
        "\n",
        "predictions = clf.predict(Hours)\n",
        "# find predictions\n",
        "idx_correct = [i for i, item in enumerate(predictions) if item==Pass[i]]\n",
        "idx_wrong = [i for i, item in enumerate(predictions) if item!=Pass[i]]\n",
        "\n",
        "summary = {'Hours': Hours.ravel(), 'Pass/Fail': Pass, 'Prediction':predictions ,'Probability of Fail':clf.predict_proba(Hours)[:,0], 'Probability of Pass':clf.predict_proba(Hours)[:,1]}\n",
        "df = pd.DataFrame(summary)\n",
        "df"
      ],
      "metadata": {
        "colab": {
          "base_uri": "https://localhost:8080/",
          "height": 676
        },
        "id": "craRIN9q3CA_",
        "outputId": "58e6544c-ec9c-46da-84d5-16f6c48d4f65"
      },
      "execution_count": 6,
      "outputs": [
        {
          "output_type": "execute_result",
          "data": {
            "text/plain": [
              "    Hours  Pass/Fail  Prediction  Probability of Fail  Probability of Pass\n",
              "0    0.50          0           0             0.928590             0.071410\n",
              "1    0.75          0           0             0.907045             0.092955\n",
              "2    1.00          0           0             0.879840             0.120160\n",
              "3    1.25          0           0             0.846026             0.153974\n",
              "4    1.50          0           0             0.804808             0.195192\n",
              "5    1.75          0           0             0.755741             0.244259\n",
              "6    1.75          1           0             0.755741             0.244259\n",
              "7    2.00          0           0             0.698953             0.301047\n",
              "8    2.25          1           0             0.635333             0.364667\n",
              "9    2.50          0           0             0.566605             0.433395\n",
              "10   2.75          1           1             0.495216             0.504784\n",
              "11   3.00          0           1             0.424021             0.575979\n",
              "12   3.25          1           1             0.355846             0.644154\n",
              "13   3.50          0           1             0.293056             0.706944\n",
              "14   4.00          1           1             0.189250             0.810750\n",
              "15   4.25          1           1             0.149054             0.850946\n",
              "16   4.50          1           1             0.116172             0.883828\n",
              "17   4.75          1           1             0.089778             0.910222\n",
              "18   5.00          1           1             0.068914             0.931086\n",
              "19   5.50          1           1             0.040010             0.959990"
            ],
            "text/html": [
              "\n",
              "  <div id=\"df-902c50b2-5e92-474a-861d-d21179a7998b\">\n",
              "    <div class=\"colab-df-container\">\n",
              "      <div>\n",
              "<style scoped>\n",
              "    .dataframe tbody tr th:only-of-type {\n",
              "        vertical-align: middle;\n",
              "    }\n",
              "\n",
              "    .dataframe tbody tr th {\n",
              "        vertical-align: top;\n",
              "    }\n",
              "\n",
              "    .dataframe thead th {\n",
              "        text-align: right;\n",
              "    }\n",
              "</style>\n",
              "<table border=\"1\" class=\"dataframe\">\n",
              "  <thead>\n",
              "    <tr style=\"text-align: right;\">\n",
              "      <th></th>\n",
              "      <th>Hours</th>\n",
              "      <th>Pass/Fail</th>\n",
              "      <th>Prediction</th>\n",
              "      <th>Probability of Fail</th>\n",
              "      <th>Probability of Pass</th>\n",
              "    </tr>\n",
              "  </thead>\n",
              "  <tbody>\n",
              "    <tr>\n",
              "      <th>0</th>\n",
              "      <td>0.50</td>\n",
              "      <td>0</td>\n",
              "      <td>0</td>\n",
              "      <td>0.928590</td>\n",
              "      <td>0.071410</td>\n",
              "    </tr>\n",
              "    <tr>\n",
              "      <th>1</th>\n",
              "      <td>0.75</td>\n",
              "      <td>0</td>\n",
              "      <td>0</td>\n",
              "      <td>0.907045</td>\n",
              "      <td>0.092955</td>\n",
              "    </tr>\n",
              "    <tr>\n",
              "      <th>2</th>\n",
              "      <td>1.00</td>\n",
              "      <td>0</td>\n",
              "      <td>0</td>\n",
              "      <td>0.879840</td>\n",
              "      <td>0.120160</td>\n",
              "    </tr>\n",
              "    <tr>\n",
              "      <th>3</th>\n",
              "      <td>1.25</td>\n",
              "      <td>0</td>\n",
              "      <td>0</td>\n",
              "      <td>0.846026</td>\n",
              "      <td>0.153974</td>\n",
              "    </tr>\n",
              "    <tr>\n",
              "      <th>4</th>\n",
              "      <td>1.50</td>\n",
              "      <td>0</td>\n",
              "      <td>0</td>\n",
              "      <td>0.804808</td>\n",
              "      <td>0.195192</td>\n",
              "    </tr>\n",
              "    <tr>\n",
              "      <th>5</th>\n",
              "      <td>1.75</td>\n",
              "      <td>0</td>\n",
              "      <td>0</td>\n",
              "      <td>0.755741</td>\n",
              "      <td>0.244259</td>\n",
              "    </tr>\n",
              "    <tr>\n",
              "      <th>6</th>\n",
              "      <td>1.75</td>\n",
              "      <td>1</td>\n",
              "      <td>0</td>\n",
              "      <td>0.755741</td>\n",
              "      <td>0.244259</td>\n",
              "    </tr>\n",
              "    <tr>\n",
              "      <th>7</th>\n",
              "      <td>2.00</td>\n",
              "      <td>0</td>\n",
              "      <td>0</td>\n",
              "      <td>0.698953</td>\n",
              "      <td>0.301047</td>\n",
              "    </tr>\n",
              "    <tr>\n",
              "      <th>8</th>\n",
              "      <td>2.25</td>\n",
              "      <td>1</td>\n",
              "      <td>0</td>\n",
              "      <td>0.635333</td>\n",
              "      <td>0.364667</td>\n",
              "    </tr>\n",
              "    <tr>\n",
              "      <th>9</th>\n",
              "      <td>2.50</td>\n",
              "      <td>0</td>\n",
              "      <td>0</td>\n",
              "      <td>0.566605</td>\n",
              "      <td>0.433395</td>\n",
              "    </tr>\n",
              "    <tr>\n",
              "      <th>10</th>\n",
              "      <td>2.75</td>\n",
              "      <td>1</td>\n",
              "      <td>1</td>\n",
              "      <td>0.495216</td>\n",
              "      <td>0.504784</td>\n",
              "    </tr>\n",
              "    <tr>\n",
              "      <th>11</th>\n",
              "      <td>3.00</td>\n",
              "      <td>0</td>\n",
              "      <td>1</td>\n",
              "      <td>0.424021</td>\n",
              "      <td>0.575979</td>\n",
              "    </tr>\n",
              "    <tr>\n",
              "      <th>12</th>\n",
              "      <td>3.25</td>\n",
              "      <td>1</td>\n",
              "      <td>1</td>\n",
              "      <td>0.355846</td>\n",
              "      <td>0.644154</td>\n",
              "    </tr>\n",
              "    <tr>\n",
              "      <th>13</th>\n",
              "      <td>3.50</td>\n",
              "      <td>0</td>\n",
              "      <td>1</td>\n",
              "      <td>0.293056</td>\n",
              "      <td>0.706944</td>\n",
              "    </tr>\n",
              "    <tr>\n",
              "      <th>14</th>\n",
              "      <td>4.00</td>\n",
              "      <td>1</td>\n",
              "      <td>1</td>\n",
              "      <td>0.189250</td>\n",
              "      <td>0.810750</td>\n",
              "    </tr>\n",
              "    <tr>\n",
              "      <th>15</th>\n",
              "      <td>4.25</td>\n",
              "      <td>1</td>\n",
              "      <td>1</td>\n",
              "      <td>0.149054</td>\n",
              "      <td>0.850946</td>\n",
              "    </tr>\n",
              "    <tr>\n",
              "      <th>16</th>\n",
              "      <td>4.50</td>\n",
              "      <td>1</td>\n",
              "      <td>1</td>\n",
              "      <td>0.116172</td>\n",
              "      <td>0.883828</td>\n",
              "    </tr>\n",
              "    <tr>\n",
              "      <th>17</th>\n",
              "      <td>4.75</td>\n",
              "      <td>1</td>\n",
              "      <td>1</td>\n",
              "      <td>0.089778</td>\n",
              "      <td>0.910222</td>\n",
              "    </tr>\n",
              "    <tr>\n",
              "      <th>18</th>\n",
              "      <td>5.00</td>\n",
              "      <td>1</td>\n",
              "      <td>1</td>\n",
              "      <td>0.068914</td>\n",
              "      <td>0.931086</td>\n",
              "    </tr>\n",
              "    <tr>\n",
              "      <th>19</th>\n",
              "      <td>5.50</td>\n",
              "      <td>1</td>\n",
              "      <td>1</td>\n",
              "      <td>0.040010</td>\n",
              "      <td>0.959990</td>\n",
              "    </tr>\n",
              "  </tbody>\n",
              "</table>\n",
              "</div>\n",
              "      <button class=\"colab-df-convert\" onclick=\"convertToInteractive('df-902c50b2-5e92-474a-861d-d21179a7998b')\"\n",
              "              title=\"Convert this dataframe to an interactive table.\"\n",
              "              style=\"display:none;\">\n",
              "        \n",
              "  <svg xmlns=\"http://www.w3.org/2000/svg\" height=\"24px\"viewBox=\"0 0 24 24\"\n",
              "       width=\"24px\">\n",
              "    <path d=\"M0 0h24v24H0V0z\" fill=\"none\"/>\n",
              "    <path d=\"M18.56 5.44l.94 2.06.94-2.06 2.06-.94-2.06-.94-.94-2.06-.94 2.06-2.06.94zm-11 1L8.5 8.5l.94-2.06 2.06-.94-2.06-.94L8.5 2.5l-.94 2.06-2.06.94zm10 10l.94 2.06.94-2.06 2.06-.94-2.06-.94-.94-2.06-.94 2.06-2.06.94z\"/><path d=\"M17.41 7.96l-1.37-1.37c-.4-.4-.92-.59-1.43-.59-.52 0-1.04.2-1.43.59L10.3 9.45l-7.72 7.72c-.78.78-.78 2.05 0 2.83L4 21.41c.39.39.9.59 1.41.59.51 0 1.02-.2 1.41-.59l7.78-7.78 2.81-2.81c.8-.78.8-2.07 0-2.86zM5.41 20L4 18.59l7.72-7.72 1.47 1.35L5.41 20z\"/>\n",
              "  </svg>\n",
              "      </button>\n",
              "      \n",
              "  <style>\n",
              "    .colab-df-container {\n",
              "      display:flex;\n",
              "      flex-wrap:wrap;\n",
              "      gap: 12px;\n",
              "    }\n",
              "\n",
              "    .colab-df-convert {\n",
              "      background-color: #E8F0FE;\n",
              "      border: none;\n",
              "      border-radius: 50%;\n",
              "      cursor: pointer;\n",
              "      display: none;\n",
              "      fill: #1967D2;\n",
              "      height: 32px;\n",
              "      padding: 0 0 0 0;\n",
              "      width: 32px;\n",
              "    }\n",
              "\n",
              "    .colab-df-convert:hover {\n",
              "      background-color: #E2EBFA;\n",
              "      box-shadow: 0px 1px 2px rgba(60, 64, 67, 0.3), 0px 1px 3px 1px rgba(60, 64, 67, 0.15);\n",
              "      fill: #174EA6;\n",
              "    }\n",
              "\n",
              "    [theme=dark] .colab-df-convert {\n",
              "      background-color: #3B4455;\n",
              "      fill: #D2E3FC;\n",
              "    }\n",
              "\n",
              "    [theme=dark] .colab-df-convert:hover {\n",
              "      background-color: #434B5C;\n",
              "      box-shadow: 0px 1px 3px 1px rgba(0, 0, 0, 0.15);\n",
              "      filter: drop-shadow(0px 1px 2px rgba(0, 0, 0, 0.3));\n",
              "      fill: #FFFFFF;\n",
              "    }\n",
              "  </style>\n",
              "\n",
              "      <script>\n",
              "        const buttonEl =\n",
              "          document.querySelector('#df-902c50b2-5e92-474a-861d-d21179a7998b button.colab-df-convert');\n",
              "        buttonEl.style.display =\n",
              "          google.colab.kernel.accessAllowed ? 'block' : 'none';\n",
              "\n",
              "        async function convertToInteractive(key) {\n",
              "          const element = document.querySelector('#df-902c50b2-5e92-474a-861d-d21179a7998b');\n",
              "          const dataTable =\n",
              "            await google.colab.kernel.invokeFunction('convertToInteractive',\n",
              "                                                     [key], {});\n",
              "          if (!dataTable) return;\n",
              "\n",
              "          const docLinkHtml = 'Like what you see? Visit the ' +\n",
              "            '<a target=\"_blank\" href=https://colab.research.google.com/notebooks/data_table.ipynb>data table notebook</a>'\n",
              "            + ' to learn more about interactive tables.';\n",
              "          element.innerHTML = '';\n",
              "          dataTable['output_type'] = 'display_data';\n",
              "          await google.colab.output.renderOutput(dataTable, element);\n",
              "          const docLink = document.createElement('div');\n",
              "          docLink.innerHTML = docLinkHtml;\n",
              "          element.appendChild(docLink);\n",
              "        }\n",
              "      </script>\n",
              "    </div>\n",
              "  </div>\n",
              "  "
            ]
          },
          "metadata": {},
          "execution_count": 6
        }
      ]
    },
    {
      "cell_type": "code",
      "source": [
        "# plot figure\n",
        "from matplotlib import pyplot as plt\n",
        "fig, ax = plt.subplots(figsize=(4,3))\n",
        "ax.set_xlabel('Hours of studying')\n",
        "ax.set_ylabel('Probability of Passing Eaxm')\n",
        "ax.plot(Hours[idx_correct],predictions[idx_correct], 'og')\n",
        "ax.plot(Hours[idx_diff],predictions[idx_diff],'or')\n",
        "ax.plot(x,p,'-b')\n",
        "ax.legend(['Correct Prediction','Wrong Prediction','Logistic Function'], loc='lower right', fontsize='8')\n",
        "ax.set_title('Prediction', fontsize='10')\n",
        "plt.grid()\n",
        "plt.show()"
      ],
      "metadata": {
        "colab": {
          "base_uri": "https://localhost:8080/",
          "height": 330
        },
        "id": "oNrYou7H3FIk",
        "outputId": "1b36188f-8cdd-44b3-c9ed-c8d6753eb6fd"
      },
      "execution_count": 7,
      "outputs": [
        {
          "output_type": "display_data",
          "data": {
            "text/plain": [
              "<Figure size 400x300 with 1 Axes>"
            ],
            "image/png": "[encoded data removed]"
          },
          "metadata": {}
        }
      ]
    },
    {
      "cell_type": "markdown",
      "source": [
        "Confusion Matrix"
      ],
      "metadata": {
        "id": "G6d8jJSN3IyL"
      }
    },
    {
      "cell_type": "code",
      "source": [
        "# Plot confusion matrix\n",
        "import seaborn as sns\n",
        "from matplotlib import pyplot as plt\n",
        "\n",
        "cm = metrics.confusion_matrix(Pass, predictions)\n",
        "\n",
        "plt.figure(figsize=(4,4))\n",
        "sns.heatmap(cm, annot=True, fmt=\".3f\", linewidths=.5, square = True)\n",
        "plt.ylabel('Actual')\n",
        "plt.xlabel('Predicted')\n",
        "all_sample_title = 'Accuracy Score on Train Data: {:.2f}'.format(score)\n",
        "plt.title(all_sample_title, size = 10)\n",
        "plt.show()"
      ],
      "metadata": {
        "colab": {
          "base_uri": "https://localhost:8080/",
          "height": 363
        },
        "id": "xtP5rv8u3HuC",
        "outputId": "97dc64b2-525c-4a99-9d73-95ae8e7d4e31"
      },
      "execution_count": 8,
      "outputs": [
        {
          "output_type": "display_data",
          "data": {
            "text/plain": [
              "<Figure size 400x400 with 2 Axes>"
            ],
            "image/png": "[encoded data removed]"
          },
          "metadata": {}
        }
      ]
    },
    {
      "cell_type": "markdown",
      "source": [
        "There are two false positive and two false negative."
      ],
      "metadata": {
        "id": "SALL937b3NQA"
      }
    },
    {
      "cell_type": "markdown",
      "source": [
        "## References"
      ],
      "metadata": {
        "id": "yvFnbCyq3XSr"
      }
    },
    {
      "cell_type": "markdown",
      "source": [
        "\n",
        "https://en.wikipedia.org/wiki/Logistic_distribution\n",
        "\n",
        "https://en.wikipedia.org/wiki/Logit\n",
        "\n",
        "https://en.wikipedia.org/wiki/Logistic_regression\n",
        "\n",
        "https://en.wikipedia.org/wiki/Probit\n",
        "\n",
        "https://scikit-learn.org/stable/modules/generated/sklearn.linear_model.LogisticRegression.html\n",
        "\n",
        "https://scikit-learn.org/stable/modules/generated/sklearn.metrics.log_loss.html"
      ],
      "metadata": {
        "id": "bNedC4mV3PK7"
      }
    },
    {
      "cell_type": "code",
      "source": [],
      "metadata": {
        "id": "ih8TbGEL3bDt"
      },
      "execution_count": null,
      "outputs": []
    }
  ]
}